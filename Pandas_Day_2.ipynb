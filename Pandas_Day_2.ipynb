{
 "cells": [
  {
   "cell_type": "code",
   "execution_count": 1,
   "id": "3376961f-1018-438a-a40e-a420d648397f",
   "metadata": {},
   "outputs": [],
   "source": [
    "import pandas as pd\n",
    "import numpy as np"
   ]
  },
  {
   "cell_type": "code",
   "execution_count": 2,
   "id": "f4175ad5-218e-4eb9-bf71-58e7ac816759",
   "metadata": {},
   "outputs": [
    {
     "data": {
      "text/plain": [
       "array([[84, 72, 72, 58],\n",
       "       [67, 58, 88, 64],\n",
       "       [61, 45, 70, 60],\n",
       "       [61, 67, 73, 49],\n",
       "       [93, 69, 78, 93],\n",
       "       [68, 84, 42, 98]])"
      ]
     },
     "execution_count": 2,
     "metadata": {},
     "output_type": "execute_result"
    }
   ],
   "source": [
    "arr = np.random.randint(40, 99, 24).reshape(6,4)\n",
    "arr"
   ]
  },
  {
   "cell_type": "code",
   "execution_count": 3,
   "id": "a5ec47ce-6e61-4718-9a99-df364d76512e",
   "metadata": {},
   "outputs": [
    {
     "data": {
      "text/html": [
       "<div>\n",
       "<style scoped>\n",
       "    .dataframe tbody tr th:only-of-type {\n",
       "        vertical-align: middle;\n",
       "    }\n",
       "\n",
       "    .dataframe tbody tr th {\n",
       "        vertical-align: top;\n",
       "    }\n",
       "\n",
       "    .dataframe thead th {\n",
       "        text-align: right;\n",
       "    }\n",
       "</style>\n",
       "<table border=\"1\" class=\"dataframe\">\n",
       "  <thead>\n",
       "    <tr style=\"text-align: right;\">\n",
       "      <th></th>\n",
       "      <th>Std_Name</th>\n",
       "      <th>Math</th>\n",
       "      <th>English</th>\n",
       "      <th>Physics</th>\n",
       "      <th>Sport</th>\n",
       "    </tr>\n",
       "  </thead>\n",
       "  <tbody>\n",
       "    <tr>\n",
       "      <th>0</th>\n",
       "      <td>Sachin</td>\n",
       "      <td>84</td>\n",
       "      <td>72</td>\n",
       "      <td>72</td>\n",
       "      <td>58</td>\n",
       "    </tr>\n",
       "    <tr>\n",
       "      <th>1</th>\n",
       "      <td>Rohit</td>\n",
       "      <td>67</td>\n",
       "      <td>58</td>\n",
       "      <td>88</td>\n",
       "      <td>64</td>\n",
       "    </tr>\n",
       "    <tr>\n",
       "      <th>2</th>\n",
       "      <td>Shubhaman</td>\n",
       "      <td>61</td>\n",
       "      <td>45</td>\n",
       "      <td>70</td>\n",
       "      <td>60</td>\n",
       "    </tr>\n",
       "  </tbody>\n",
       "</table>\n",
       "</div>"
      ],
      "text/plain": [
       "    Std_Name  Math  English  Physics  Sport\n",
       "0     Sachin    84       72       72     58\n",
       "1      Rohit    67       58       88     64\n",
       "2  Shubhaman    61       45       70     60"
      ]
     },
     "execution_count": 3,
     "metadata": {},
     "output_type": "execute_result"
    }
   ],
   "source": [
    "# Creating Dataframe\n",
    "df = pd.DataFrame(arr, columns=[\"Math\", \"English\", \"Physics\", \"Sport\"])\n",
    "\n",
    "# Adding Column\n",
    "df[\"Std_Name\"] = [\"Sachin\", \"Rohit\", \"Shubhaman\", \"Virat\", \"Ravindra\",\"Rinku\"] \n",
    "\n",
    "# Changing Column Position\n",
    "cols = [\"Std_Name\", \"Math\", \"English\", \"Physics\", \"Sport\"]\n",
    "df = df[cols]\n",
    "df.head(3)"
   ]
  },
  {
   "cell_type": "code",
   "execution_count": 4,
   "id": "0b2bd611-44a3-4e9c-8aab-f9884dde3b53",
   "metadata": {},
   "outputs": [],
   "source": [
    "df1 = df[[\"Std_Name\", \"Math\", \"English\"]]\n",
    "df2 = df[[\"Std_Name\", \"Physics\", \"Sport\"]]"
   ]
  },
  {
   "cell_type": "code",
   "execution_count": 5,
   "id": "f7ee8a14-c839-44a7-8d93-bc06350069e1",
   "metadata": {},
   "outputs": [
    {
     "data": {
      "text/plain": [
       "(  Std_Name  Math  English\n",
       " 0   Sachin    84       72\n",
       " 1    Rohit    67       58,\n",
       "   Std_Name  Physics  Sport\n",
       " 0   Sachin       72     58\n",
       " 1    Rohit       88     64)"
      ]
     },
     "execution_count": 5,
     "metadata": {},
     "output_type": "execute_result"
    }
   ],
   "source": [
    "df1.head(2), df2.head(2)"
   ]
  },
  {
   "cell_type": "code",
   "execution_count": 6,
   "id": "18a836d1-8ab8-4a91-9994-51070e43e165",
   "metadata": {},
   "outputs": [
    {
     "data": {
      "text/plain": [
       "tuple"
      ]
     },
     "execution_count": 6,
     "metadata": {},
     "output_type": "execute_result"
    }
   ],
   "source": [
    "type((df1.head(2), df2.head(2)))"
   ]
  },
  {
   "cell_type": "code",
   "execution_count": 17,
   "id": "dd630b93-de88-42bd-99b6-de1b198bc659",
   "metadata": {},
   "outputs": [
    {
     "data": {
      "text/html": [
       "<div>\n",
       "<style scoped>\n",
       "    .dataframe tbody tr th:only-of-type {\n",
       "        vertical-align: middle;\n",
       "    }\n",
       "\n",
       "    .dataframe tbody tr th {\n",
       "        vertical-align: top;\n",
       "    }\n",
       "\n",
       "    .dataframe thead th {\n",
       "        text-align: right;\n",
       "    }\n",
       "</style>\n",
       "<table border=\"1\" class=\"dataframe\">\n",
       "  <thead>\n",
       "    <tr style=\"text-align: right;\">\n",
       "      <th></th>\n",
       "      <th>Std_Name_</th>\n",
       "      <th>Math</th>\n",
       "      <th>English</th>\n",
       "      <th>Std_Name_</th>\n",
       "      <th>Physics</th>\n",
       "      <th>Sport</th>\n",
       "    </tr>\n",
       "  </thead>\n",
       "  <tbody>\n",
       "    <tr>\n",
       "      <th>0</th>\n",
       "      <td>Sachin</td>\n",
       "      <td>84</td>\n",
       "      <td>72</td>\n",
       "      <td>Sachin</td>\n",
       "      <td>72</td>\n",
       "      <td>58</td>\n",
       "    </tr>\n",
       "    <tr>\n",
       "      <th>1</th>\n",
       "      <td>Rohit</td>\n",
       "      <td>67</td>\n",
       "      <td>58</td>\n",
       "      <td>Rohit</td>\n",
       "      <td>88</td>\n",
       "      <td>64</td>\n",
       "    </tr>\n",
       "    <tr>\n",
       "      <th>2</th>\n",
       "      <td>Shubhaman</td>\n",
       "      <td>61</td>\n",
       "      <td>45</td>\n",
       "      <td>Shubhaman</td>\n",
       "      <td>70</td>\n",
       "      <td>60</td>\n",
       "    </tr>\n",
       "    <tr>\n",
       "      <th>3</th>\n",
       "      <td>Virat</td>\n",
       "      <td>61</td>\n",
       "      <td>67</td>\n",
       "      <td>Virat</td>\n",
       "      <td>73</td>\n",
       "      <td>49</td>\n",
       "    </tr>\n",
       "    <tr>\n",
       "      <th>4</th>\n",
       "      <td>Ravindra</td>\n",
       "      <td>93</td>\n",
       "      <td>69</td>\n",
       "      <td>Ravindra</td>\n",
       "      <td>78</td>\n",
       "      <td>93</td>\n",
       "    </tr>\n",
       "    <tr>\n",
       "      <th>5</th>\n",
       "      <td>Rinku</td>\n",
       "      <td>68</td>\n",
       "      <td>84</td>\n",
       "      <td>Rinku</td>\n",
       "      <td>42</td>\n",
       "      <td>98</td>\n",
       "    </tr>\n",
       "  </tbody>\n",
       "</table>\n",
       "</div>"
      ],
      "text/plain": [
       "   Std_Name_  Math  English  Std_Name_  Physics  Sport\n",
       "0     Sachin    84       72     Sachin       72     58\n",
       "1      Rohit    67       58      Rohit       88     64\n",
       "2  Shubhaman    61       45  Shubhaman       70     60\n",
       "3      Virat    61       67      Virat       73     49\n",
       "4   Ravindra    93       69   Ravindra       78     93\n",
       "5      Rinku    68       84      Rinku       42     98"
      ]
     },
     "execution_count": 17,
     "metadata": {},
     "output_type": "execute_result"
    }
   ],
   "source": [
    "df1.join(df2, lsuffix= '_',\n",
    "    rsuffix= '_')"
   ]
  },
  {
   "cell_type": "code",
   "execution_count": null,
   "id": "b1c530b6-7f99-4cd3-b6ee-153618b5362e",
   "metadata": {},
   "outputs": [],
   "source": [
    "df1.merge(df2, on=\"Std_Name\", how=\"outer\")"
   ]
  },
  {
   "cell_type": "code",
   "execution_count": null,
   "id": "47e89f63-3494-4cfb-a1d9-c72defb08e83",
   "metadata": {},
   "outputs": [],
   "source": [
    "df1 = df1[df1[\"Std_Name\"]!=\"Sachin\"]"
   ]
  },
  {
   "cell_type": "code",
   "execution_count": null,
   "id": "ba07cf12-9099-4a7e-bb29-3d91aa8b691e",
   "metadata": {},
   "outputs": [],
   "source": [
    "df1"
   ]
  },
  {
   "cell_type": "code",
   "execution_count": null,
   "id": "bc890ca8-0df6-4013-83ff-4177e4f05bae",
   "metadata": {},
   "outputs": [],
   "source": [
    "df2 = df2[df2[\"Std_Name\"]!=\"Rinku\"]\n",
    "df2"
   ]
  },
  {
   "cell_type": "code",
   "execution_count": null,
   "id": "c3503b0d-61d9-4594-8361-533cd6bbccb4",
   "metadata": {},
   "outputs": [],
   "source": [
    "df1.merge(df2, on=\"Std_Name\", how=\"left\")"
   ]
  },
  {
   "cell_type": "code",
   "execution_count": null,
   "id": "e10a362e-425d-43b7-8f84-8386d1c839a6",
   "metadata": {},
   "outputs": [],
   "source": [
    "df1"
   ]
  },
  {
   "cell_type": "code",
   "execution_count": null,
   "id": "7430073b-2a45-49a9-adbf-e844c33af569",
   "metadata": {},
   "outputs": [],
   "source": [
    "df2"
   ]
  },
  {
   "cell_type": "code",
   "execution_count": null,
   "id": "d820ae0f-56b0-470a-b344-e10b5f9b47e9",
   "metadata": {},
   "outputs": [],
   "source": [
    "df1.merge(df2, on=\"Std_Name\", how=\"right\")"
   ]
  },
  {
   "cell_type": "code",
   "execution_count": null,
   "id": "88d8cc7b-f3fb-4039-9767-63cb44bf88ac",
   "metadata": {},
   "outputs": [],
   "source": [
    "df1.merge(df2, how=\"cross\", right_index=False)\n",
    "\n",
    "# need to review"
   ]
  },
  {
   "cell_type": "code",
   "execution_count": null,
   "id": "b32a3567-8b8a-4ea0-96e4-62be821cba51",
   "metadata": {},
   "outputs": [],
   "source": [
    "dict = {\n",
    "    \"Name\":[\"Raju\", \"Shyam\", \"Babu\", \"Raju\", \"Shyam\", \"Babu\", \"Raju\", \"Babu\"],\n",
    "    \"Month\":[\"Jan\", \"Jan\", \"Jan\", \"Feb\", \"Feb\", \"Feb\", \"Mar\", \"Mar\"],\n",
    "    \"Sales\": [2300, 2100, 3100, 2400, 3200, 2000, 2400, 2500]\n",
    "}"
   ]
  },
  {
   "cell_type": "code",
   "execution_count": null,
   "id": "4cd1ce44-3ae9-4309-875c-5b7cec7581f0",
   "metadata": {},
   "outputs": [],
   "source": [
    "sales = pd.DataFrame(dict)\n",
    "sales"
   ]
  },
  {
   "cell_type": "code",
   "execution_count": null,
   "id": "e6ed3912-292c-4645-93ac-72447e026fb0",
   "metadata": {},
   "outputs": [],
   "source": [
    "pd.pivot(sales, columns=\"Month\", index=\"Name\", values=\"Sales\")"
   ]
  },
  {
   "cell_type": "code",
   "execution_count": null,
   "id": "ac74d88f-ba49-431f-84d7-0a67858797b4",
   "metadata": {},
   "outputs": [],
   "source": [
    "dict = {\n",
    "    \"Name\":[\"Raju\", \"Shyam\", \"Babu\", \"Raju\", \"Shyam\", \"Babu\", \"Raju\", \"Babu\", \"Raju\", \"Shyam\", \"Babu\", \"Raju\"],\n",
    "    \"Month\":[\"Jan\", \"Jan\", \"Jan\", \"Feb\", \"Feb\", \"Feb\", \"Mar\", \"Mar\", \"Jan\", \"Jan\", \"Jan\", \"Feb\"],\n",
    "    \"Sales\": [2300, 2100, 3100, 2400, 3200, 2000, 2400, 2500, 3100, 2400, 3200, 2000]\n",
    "}"
   ]
  },
  {
   "cell_type": "code",
   "execution_count": null,
   "id": "3b8b151c-f781-4bce-a9e2-fc85b6d53bc2",
   "metadata": {},
   "outputs": [],
   "source": [
    "new_sales = pd.DataFrame(dict)"
   ]
  },
  {
   "cell_type": "code",
   "execution_count": null,
   "id": "133438fe-da8a-431a-9317-28da98717e0a",
   "metadata": {},
   "outputs": [],
   "source": [
    "new_sales"
   ]
  },
  {
   "cell_type": "code",
   "execution_count": null,
   "id": "264a230d-9ece-448f-930a-f640a9c723cc",
   "metadata": {},
   "outputs": [],
   "source": [
    "pd.pivot_table(new_sales, columns=\"Month\", index=\"Name\", values=\"Sales\", aggfunc=\"sum\")"
   ]
  },
  {
   "cell_type": "code",
   "execution_count": null,
   "id": "67192a30-2b30-4247-8502-84babe3c05c8",
   "metadata": {},
   "outputs": [],
   "source": []
  }
 ],
 "metadata": {
  "kernelspec": {
   "display_name": "Python 3 (ipykernel)",
   "language": "python",
   "name": "python3"
  },
  "language_info": {
   "codemirror_mode": {
    "name": "ipython",
    "version": 3
   },
   "file_extension": ".py",
   "mimetype": "text/x-python",
   "name": "python",
   "nbconvert_exporter": "python",
   "pygments_lexer": "ipython3",
   "version": "3.12.0"
  }
 },
 "nbformat": 4,
 "nbformat_minor": 5
}
